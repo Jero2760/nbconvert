{
 "cells": [
  {
   "cell_type": "code",
   "execution_count": null,
   "metadata": {},
   "outputs": [],
   "source": [
    "# Class is a group of methods and attributes defining an object: a *blueprint* (plano) for an object\n",
    "# An object is anything in OOP language. A container with data in the form of attributes and\n",
    "# functions in the form of methods"
   ]
  },
  {
   "cell_type": "code",
   "execution_count": 4,
   "metadata": {},
   "outputs": [],
   "source": [
    "import os\n",
    "import random\n",
    "import re\n",
    "import sys\n",
    "import math"
   ]
  },
  {
   "cell_type": "code",
   "execution_count": 56,
   "metadata": {},
   "outputs": [],
   "source": [
    "# Let's create a class\n",
    "class Person():\n",
    "    def __init__ (self, name, age):\n",
    "        self.name = name\n",
    "        self.age = age\n",
    "    \n",
    "    def __repr__ (self):\n",
    "        return f'{self.name} age({self.age})'\n",
    "    \n",
    "    def birthday (self):\n",
    "        self.age += 1"
   ]
  },
  {
   "cell_type": "code",
   "execution_count": 25,
   "metadata": {},
   "outputs": [],
   "source": [
    "n = Person(name='Nicholas', age=39)"
   ]
  },
  {
   "cell_type": "code",
   "execution_count": 11,
   "metadata": {},
   "outputs": [
    {
     "data": {
      "text/plain": [
       "__main__.Person"
      ]
     },
     "execution_count": 11,
     "metadata": {},
     "output_type": "execute_result"
    }
   ],
   "source": [
    "type(n)"
   ]
  },
  {
   "cell_type": "code",
   "execution_count": 26,
   "metadata": {},
   "outputs": [
    {
     "data": {
      "text/plain": [
       "Nicholas age(39)"
      ]
     },
     "execution_count": 26,
     "metadata": {},
     "output_type": "execute_result"
    }
   ],
   "source": [
    "n"
   ]
  },
  {
   "cell_type": "code",
   "execution_count": 57,
   "metadata": {},
   "outputs": [],
   "source": [
    "m = Person(name='Mohammed', age=25)"
   ]
  },
  {
   "cell_type": "code",
   "execution_count": 58,
   "metadata": {},
   "outputs": [
    {
     "data": {
      "text/plain": [
       "Mohammed age(25)"
      ]
     },
     "execution_count": 58,
     "metadata": {},
     "output_type": "execute_result"
    }
   ],
   "source": [
    "m"
   ]
  },
  {
   "cell_type": "code",
   "execution_count": 62,
   "metadata": {},
   "outputs": [
    {
     "data": {
      "text/plain": [
       "<bound method Person.birthday of Mohammed age(26)>"
      ]
     },
     "execution_count": 62,
     "metadata": {},
     "output_type": "execute_result"
    }
   ],
   "source": [
    "m.birthday #this is not running the birthday method"
   ]
  },
  {
   "cell_type": "code",
   "execution_count": 60,
   "metadata": {},
   "outputs": [],
   "source": [
    "# to run the birthday method:\n",
    "m.birthday()"
   ]
  },
  {
   "cell_type": "code",
   "execution_count": 61,
   "metadata": {},
   "outputs": [
    {
     "data": {
      "text/plain": [
       "Mohammed age(26)"
      ]
     },
     "execution_count": 61,
     "metadata": {},
     "output_type": "execute_result"
    }
   ],
   "source": [
    "m"
   ]
  },
  {
   "cell_type": "code",
   "execution_count": 63,
   "metadata": {},
   "outputs": [],
   "source": []
  },
  {
   "cell_type": "code",
   "execution_count": 90,
   "metadata": {},
   "outputs": [],
   "source": [
    "class Student(Person):\n",
    "    def __init__ (self, name, age):\n",
    "        super(Student, self).__init__(name,age)\n",
    "        self.courses = []\n",
    "        \n",
    "    def add_course(self, course):\n",
    "        self.courses.append(course)"
   ]
  },
  {
   "cell_type": "code",
   "execution_count": 85,
   "metadata": {},
   "outputs": [],
   "source": [
    "a=Student('micolas',22)"
   ]
  },
  {
   "cell_type": "code",
   "execution_count": 86,
   "metadata": {},
   "outputs": [
    {
     "data": {
      "text/plain": [
       "micolas age(22)"
      ]
     },
     "execution_count": 86,
     "metadata": {},
     "output_type": "execute_result"
    }
   ],
   "source": [
    "a"
   ]
  },
  {
   "cell_type": "code",
   "execution_count": 87,
   "metadata": {},
   "outputs": [
    {
     "data": {
      "text/plain": [
       "[]"
      ]
     },
     "execution_count": 87,
     "metadata": {},
     "output_type": "execute_result"
    }
   ],
   "source": [
    "a.courses"
   ]
  },
  {
   "cell_type": "code",
   "execution_count": 91,
   "metadata": {},
   "outputs": [
    {
     "data": {
      "text/plain": [
       "['math', 'math', 'math']"
      ]
     },
     "execution_count": 91,
     "metadata": {},
     "output_type": "execute_result"
    }
   ],
   "source": [
    "a.add_course('math')\n",
    "a.courses"
   ]
  },
  {
   "cell_type": "code",
   "execution_count": 26,
   "metadata": {},
   "outputs": [
    {
     "name": "stdout",
     "output_type": "stream",
     "text": [
      "Enter a two value: 2 23\n",
      "Number of boys:  2\n",
      "Number of girls:  23\n",
      "\n"
     ]
    }
   ],
   "source": [
    "# taking two inputs at a time \n",
    "x, y = input(\"Enter a two value: \").split() \n",
    "print(\"Number of boys: \", x) \n",
    "print(\"Number of girls: \", y) \n",
    "print() "
   ]
  },
  {
   "cell_type": "code",
   "execution_count": 1,
   "metadata": {},
   "outputs": [
    {
     "name": "stdout",
     "output_type": "stream",
     "text": [
      "1\n",
      "2\n"
     ]
    }
   ],
   "source": [
    "num1 = int(input())\n",
    "num2 = int(input())"
   ]
  },
  {
   "cell_type": "code",
   "execution_count": 4,
   "metadata": {},
   "outputs": [
    {
     "name": "stdout",
     "output_type": "stream",
     "text": [
      "<zip object at 0x7f72e0394688>\n"
     ]
    }
   ],
   "source": [
    "A = [1,2,3]\n",
    "B = [6,5,4]\n",
    "C = [7,8,9]\n",
    "X = [A] + [B] + [C]\n",
    "print(zip(*X))"
   ]
  },
  {
   "cell_type": "code",
   "execution_count": 5,
   "metadata": {},
   "outputs": [
    {
     "name": "stdout",
     "output_type": "stream",
     "text": [
      "(1, 6, 7)\n",
      "(2, 5, 8)\n",
      "(3, 4, 9)\n"
     ]
    }
   ],
   "source": [
    "for grades in zip(*X):\n",
    "    print(grades)"
   ]
  },
  {
   "cell_type": "code",
   "execution_count": 105,
   "metadata": {},
   "outputs": [
    {
     "name": "stdout",
     "output_type": "stream",
     "text": [
      "enter the function you want to draw example: 2*x+1 or e**x :\n",
      "x**3+x**2\n"
     ]
    }
   ],
   "source": [
    "#change x**2 (como string) en aplicar elevar al cuadrado\n",
    "with open(\"function.py\",'w') as file:\n",
    "    f=input('enter the function you want to draw example: 2*x+1 or e**x :\\n')\n",
    "    file.write(\"from math import *\\ndef f(x):\\n\\treturn \"+f)"
   ]
  },
  {
   "cell_type": "code",
   "execution_count": 114,
   "metadata": {},
   "outputs": [
    {
     "name": "stdout",
     "output_type": "stream",
     "text": [
      "enter the function, example: 2*x+1 or e**x :\n",
      "2*x+1\n",
      "5\n"
     ]
    }
   ],
   "source": [
    "x=2\n",
    "f=input('enter the function, example: 2*x+1 or e**x :\\n')\n",
    "print(eval(f))"
   ]
  },
  {
   "cell_type": "code",
   "execution_count": 111,
   "metadata": {},
   "outputs": [
    {
     "data": {
      "text/plain": [
       "12"
      ]
     },
     "execution_count": 111,
     "metadata": {},
     "output_type": "execute_result"
    }
   ],
   "source": [
    "def f(x):\n",
    "    return x**3+x*+2\n",
    "f(2)"
   ]
  },
  {
   "cell_type": "code",
   "execution_count": 121,
   "metadata": {},
   "outputs": [
    {
     "name": "stdout",
     "output_type": "stream",
     "text": [
      "enter the function, example: 2*x+1 or e**x :\n",
      "x**3+x**2+x+1\n"
     ]
    },
    {
     "data": {
      "text/plain": [
       "40"
      ]
     },
     "execution_count": 121,
     "metadata": {},
     "output_type": "execute_result"
    }
   ],
   "source": [
    "f=input('enter the function, example: 2*x+1 or e**x :\\n')\n",
    "def g(x):\n",
    "    return eval(f)\n",
    "g(3)"
   ]
  },
  {
   "cell_type": "code",
   "execution_count": 151,
   "metadata": {},
   "outputs": [
    {
     "name": "stdout",
     "output_type": "stream",
     "text": [
      "7 1 0\n",
      "10 2 5\n",
      "6 5 9\n"
     ]
    }
   ],
   "source": [
    "arr = []\n",
    "n=3\n",
    "for _ in range(n):\n",
    "    arr.append(list(map(int, input().rstrip().split())))"
   ]
  },
  {
   "cell_type": "code",
   "execution_count": 152,
   "metadata": {},
   "outputs": [
    {
     "data": {
      "text/plain": [
       "[[7, 1, 0], [10, 2, 5], [6, 5, 9]]"
      ]
     },
     "execution_count": 152,
     "metadata": {},
     "output_type": "execute_result"
    }
   ],
   "source": [
    "arr"
   ]
  },
  {
   "cell_type": "code",
   "execution_count": 150,
   "metadata": {},
   "outputs": [
    {
     "data": {
      "text/plain": [
       "'['"
      ]
     },
     "execution_count": 150,
     "metadata": {},
     "output_type": "execute_result"
    }
   ],
   "source": [
    "arr[0] "
   ]
  },
  {
   "cell_type": "code",
   "execution_count": 131,
   "metadata": {},
   "outputs": [
    {
     "data": {
      "text/plain": [
       "[[6, 7, 9], [7, 1, 0], [10, 2, 5]]"
      ]
     },
     "execution_count": 131,
     "metadata": {},
     "output_type": "execute_result"
    }
   ],
   "source": [
    "arr.sort()\n",
    "arr"
   ]
  },
  {
   "cell_type": "code",
   "execution_count": 134,
   "metadata": {},
   "outputs": [
    {
     "data": {
      "text/plain": [
       "list"
      ]
     },
     "execution_count": 134,
     "metadata": {},
     "output_type": "execute_result"
    }
   ],
   "source": [
    "type(arr)"
   ]
  },
  {
   "cell_type": "code",
   "execution_count": 155,
   "metadata": {},
   "outputs": [
    {
     "name": "stdout",
     "output_type": "stream",
     "text": [
      "[7, 1, 0] [10, 2, 5] [6, 5, 9]\n"
     ]
    }
   ],
   "source": [
    "def convert(arr): \n",
    "    return ' '.join(str(i) for i in arr)\n",
    "\n",
    "print(convert(arr[0]))"
   ]
  },
  {
   "cell_type": "code",
   "execution_count": 156,
   "metadata": {},
   "outputs": [
    {
     "name": "stdout",
     "output_type": "stream",
     "text": [
      "7 1 0\n",
      "10 2 5\n",
      "6 5 9\n"
     ]
    }
   ],
   "source": [
    "for m in range(n):\n",
    "    print(convert(arr[m]))"
   ]
  },
  {
   "cell_type": "code",
   "execution_count": 164,
   "metadata": {},
   "outputs": [
    {
     "name": "stdout",
     "output_type": "stream",
     "text": [
      "7 1 0\n",
      "10 2 5\n",
      "6 5 9\n"
     ]
    }
   ],
   "source": [
    "#school solution\n",
    "k=2\n",
    "arr.sort(key=lambda x: x[k])\n",
    "\n",
    "print(*[\" \".join(map(str, sub_arr)) for sub_arr in arr], sep=\"\\n\")"
   ]
  },
  {
   "cell_type": "code",
   "execution_count": 28,
   "metadata": {},
   "outputs": [],
   "source": [
    "def is_leap(year):\n",
    "    leap = False\n",
    "    \n",
    "    # Write your logic here\n",
    "    if year % 4 == 0:\n",
    "        leap = True\n",
    "        if year % 100 == 0:\n",
    "            if year % 400 == 0:\n",
    "                leap = True\n",
    "            else:\n",
    "                leap = False\n",
    "    else:\n",
    "        leap = False\n",
    "    \n",
    "    return leap"
   ]
  },
  {
   "cell_type": "code",
   "execution_count": 31,
   "metadata": {},
   "outputs": [
    {
     "name": "stdout",
     "output_type": "stream",
     "text": [
      "2020\n",
      "True\n"
     ]
    }
   ],
   "source": [
    "year = int(input())\n",
    "print(is_leap(year))"
   ]
  },
  {
   "cell_type": "code",
   "execution_count": 44,
   "metadata": {},
   "outputs": [
    {
     "name": "stdout",
     "output_type": "stream",
     "text": [
      "4\n",
      "1234"
     ]
    }
   ],
   "source": [
    "n = int(input())\n",
    "my_list = []\n",
    "for i in range(1, n+1):\n",
    "    print(i, end =\"\")  "
   ]
  },
  {
   "cell_type": "code",
   "execution_count": 2,
   "metadata": {},
   "outputs": [
    {
     "name": "stdout",
     "output_type": "stream",
     "text": [
      "1\n",
      "ID         MARKS      NAME       CLASS\n",
      "1          97         Raymond    7 \n",
      "97.0\n"
     ]
    }
   ],
   "source": [
    "from collections import namedtuple\n",
    "\n",
    "N = int(input())\n",
    "columns = ','.join(input().split())\n",
    "Student = namedtuple('Student', columns)\n",
    "\n",
    "sum = 0\n",
    "for i in range(N):\n",
    "    values = input().split()\n",
    "    student = Student(*values)\n",
    "    sum += int(student.MARKS)\n",
    "\n",
    "print(sum/N)"
   ]
  },
  {
   "cell_type": "code",
   "execution_count": 3,
   "metadata": {},
   "outputs": [
    {
     "name": "stdout",
     "output_type": "stream",
     "text": [
      "1          97         Raymond    7 \n",
      "<class '__main__.Student'>\n"
     ]
    }
   ],
   "source": [
    "values = input().split()\n",
    "student = Student(*values)"
   ]
  },
  {
   "cell_type": "code",
   "execution_count": 4,
   "metadata": {},
   "outputs": [
    {
     "name": "stdout",
     "output_type": "stream",
     "text": [
      "Student(ID='1', MARKS='97', NAME='Raymond', CLASS='7')\n"
     ]
    }
   ],
   "source": [
    "print(student)"
   ]
  },
  {
   "cell_type": "code",
   "execution_count": 4,
   "metadata": {},
   "outputs": [
    {
     "name": "stdout",
     "output_type": "stream",
     "text": [
      "OrderedDict([('a', 1), ('b', 2), ('c', 3), ('d', 4), ('e', 5)])\n"
     ]
    }
   ],
   "source": [
    "from collections import OrderedDict\n",
    "ordered_dictionary = OrderedDict()\n",
    "ordered_dictionary['a'] = 1\n",
    "ordered_dictionary['b'] = 2\n",
    "ordered_dictionary['c'] = 3\n",
    "ordered_dictionary['d'] = 4\n",
    "ordered_dictionary['e'] = 5\n",
    "\n",
    "print(ordered_dictionary)"
   ]
  },
  {
   "cell_type": "code",
   "execution_count": 135,
   "metadata": {},
   "outputs": [
    {
     "name": "stdout",
     "output_type": "stream",
     "text": [
      "Separado por espacios es: ['Hola mundo estamos explicando el funcionamiento de split en Python', '23']\n"
     ]
    }
   ],
   "source": [
    "cadena = \"Hola mundo estamos explicando el funcionamiento de split en Python 23\"\n",
    "separador = \" \"\n",
    "maximo_numero_de_separaciones = 1\n",
    "separado_por_espacios = cadena.rsplit(separador, maximo_numero_de_separaciones)\n",
    "print(\"Separado por espacios es:\", separado_por_espacios)"
   ]
  },
  {
   "cell_type": "code",
   "execution_count": 2,
   "metadata": {},
   "outputs": [
    {
     "name": "stdout",
     "output_type": "stream",
     "text": [
      "1\n",
      "banana split 323\n",
      "['banana split', '323']\n",
      "323\n",
      "banana split\n"
     ]
    }
   ],
   "source": [
    "# item_name price and net_price\n",
    "N = int(input())\n",
    "item = input().rsplit(\" \", 1) #separa la línea de entrada en dos partes, la última la parte desde la derecha al primer espacio en blanco\n",
    "print(item)\n",
    "net_price = int(item[1]) #el precio es la segunda parte del item de entrada, pero mejor = int(item[-1])\n",
    "print(net_price)\n",
    "item_name = item[0] #el name es la primera parte del intem de entrada, pero mejor = \" \".join(item[:-1])\n",
    "print(item_name)"
   ]
  },
  {
   "cell_type": "code",
   "execution_count": 261,
   "metadata": {},
   "outputs": [
    {
     "name": "stdout",
     "output_type": "stream",
     "text": [
      "1\n",
      "banana split 323\n",
      "item_name: banana split, net_price: 323\n"
     ]
    }
   ],
   "source": [
    "N = int(input())\n",
    "item = input().split()\n",
    "net_price = int(item[-1])\n",
    "item_name = \" \".join(item[:-1])\n",
    "#print(f'item_name: {item_name}')\n",
    "print(f'item_name: {item_name}, net_price: {net_price}')"
   ]
  },
  {
   "cell_type": "code",
   "execution_count": 249,
   "metadata": {},
   "outputs": [
    {
     "name": "stdout",
     "output_type": "stream",
     "text": [
      "4\n",
      "banana split 20\n",
      "oranges 10\n",
      "banana split 30\n",
      "oranges 25\n",
      "banana split 50\n",
      "oranges 35\n"
     ]
    }
   ],
   "source": [
    "# item_name price and net_price\n",
    "from collections import OrderedDict\n",
    "N = int(input())\n",
    "ordered_dictionary = OrderedDict()\n",
    "for i in range(N):\n",
    "    item = input().split()\n",
    "    net_price= int(item[-1])\n",
    "    item_name= \" \".join(item[:-1])\n",
    "    if ordered_dictionary.get(item_name):                      # .get is used to check if itemName already exists\n",
    "        ordered_dictionary[item_name] += net_price\n",
    "    else:\n",
    "        ordered_dictionary[item_name] = net_price\n",
    "\n",
    "for i in ordered_dictionary.keys():\n",
    "    print (i, ordered_dictionary[i])"
   ]
  },
  {
   "cell_type": "code",
   "execution_count": 250,
   "metadata": {},
   "outputs": [
    {
     "name": "stdout",
     "output_type": "stream",
     "text": [
      "OrderedDict([('banana split', 50), ('oranges', 35)])\n"
     ]
    }
   ],
   "source": [
    "print(ordered_dictionary)"
   ]
  },
  {
   "cell_type": "code",
   "execution_count": 64,
   "metadata": {},
   "outputs": [
    {
     "name": "stdout",
     "output_type": "stream",
     "text": [
      "4\n",
      "asdf\n",
      "sdf\n",
      "df\n",
      "asdf\n"
     ]
    }
   ],
   "source": [
    "from collections import OrderedDict\n",
    "N = int(input())\n",
    "ordered_dictionary = OrderedDict()\n",
    "for i in range(N):\n",
    "    word = input()\n",
    "    if ordered_dictionary.get(word):                      # .get is used to check if word already exists\n",
    "        ordered_dictionary[word] += 1\n",
    "    else:\n",
    "        ordered_dictionary[word] = 1"
   ]
  },
  {
   "cell_type": "code",
   "execution_count": 65,
   "metadata": {},
   "outputs": [
    {
     "name": "stdout",
     "output_type": "stream",
     "text": [
      "4\n",
      "2 1 1\n"
     ]
    }
   ],
   "source": [
    "print(N)\n",
    "print(*ordered_dictionary.values()) "
   ]
  },
  {
   "cell_type": "code",
   "execution_count": 39,
   "metadata": {},
   "outputs": [
    {
     "name": "stdout",
     "output_type": "stream",
     "text": [
      "abcdef 2\n",
      "bcde 1\n",
      "cdef 1\n"
     ]
    }
   ],
   "source": [
    "for i in ordered_dictionary.keys():\n",
    "    print (i, ordered_dictionary[i])"
   ]
  },
  {
   "cell_type": "code",
   "execution_count": 46,
   "metadata": {},
   "outputs": [
    {
     "name": "stdout",
     "output_type": "stream",
     "text": [
      "4\n",
      "2 1 1 "
     ]
    }
   ],
   "source": [
    "print(N)\n",
    "for i in ordered_dictionary.keys():\n",
    "    print (ordered_dictionary[i], end =\" \") "
   ]
  },
  {
   "cell_type": "code",
   "execution_count": 51,
   "metadata": {},
   "outputs": [],
   "source": [
    "my_list = []\n",
    "for k in ordered_dictionary.keys():\n",
    "    my_list.append(ordered_dictionary[k])"
   ]
  },
  {
   "cell_type": "code",
   "execution_count": 52,
   "metadata": {},
   "outputs": [
    {
     "name": "stdout",
     "output_type": "stream",
     "text": [
      "[2, 1, 1]\n"
     ]
    }
   ],
   "source": [
    "print(my_list)"
   ]
  },
  {
   "cell_type": "code",
   "execution_count": 62,
   "metadata": {},
   "outputs": [
    {
     "name": "stdout",
     "output_type": "stream",
     "text": [
      "4\n",
      "2 1 1\n"
     ]
    }
   ],
   "source": [
    "print(N)\n",
    "print(*my_list) "
   ]
  },
  {
   "cell_type": "code",
   "execution_count": null,
   "metadata": {},
   "outputs": [],
   "source": []
  }
 ],
 "metadata": {
  "kernelspec": {
   "display_name": "Python 3",
   "language": "python",
   "name": "python3"
  },
  "language_info": {
   "codemirror_mode": {
    "name": "ipython",
    "version": 3
   },
   "file_extension": ".py",
   "mimetype": "text/x-python",
   "name": "python",
   "nbconvert_exporter": "python",
   "pygments_lexer": "ipython3",
   "version": "3.7.3"
  }
 },
 "nbformat": 4,
 "nbformat_minor": 2
}
